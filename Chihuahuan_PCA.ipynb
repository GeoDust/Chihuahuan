{
  "nbformat": 4,
  "nbformat_minor": 0,
  "metadata": {
    "colab": {
      "name": "Chihuahuan_PCA.ipynb",
      "private_outputs": true,
      "provenance": [],
      "toc_visible": true,
      "authorship_tag": "ABX9TyMYlIiA6ZuNwjWI/olGO/0e",
      "include_colab_link": true
    },
    "kernelspec": {
      "name": "python3",
      "display_name": "Python 3"
    },
    "language_info": {
      "name": "python"
    }
  },
  "cells": [
    {
      "cell_type": "markdown",
      "metadata": {
        "id": "view-in-github",
        "colab_type": "text"
      },
      "source": [
        "<a href=\"https://colab.research.google.com/github/GeoDust/Chihuahuan/blob/main/Chihuahuan_PCA.ipynb\" target=\"_parent\"><img src=\"https://colab.research.google.com/assets/colab-badge.svg\" alt=\"Open In Colab\"/></a>"
      ]
    },
    {
      "cell_type": "markdown",
      "source": [
        "#A Look at the Desertification of the Chihuahuan Desert Using Open Source Data\n",
        "##Principle Component Analysis \n",
        "Part one of the PCA to get it going with one image before getting the images over time "
      ],
      "metadata": {
        "id": "aVJHhADbe832"
      }
    },
    {
      "cell_type": "markdown",
      "source": [
        "##Uploads and Installs\n",
        "###Python installations for running Scripts\n",
        "*   Miscellaneous operating system interfaces https://docs.python.org/3/library/os.html\n",
        "*   Earth Engine https://developers.google.com/earth-engine/apidocs\n",
        "*    Pandas https://pandas.pydata.org\n",
        "*   Geopandas https://geopandas.org/docs/reference.html\n",
        "*   Numpy https://numpy.org/doc/stable/reference/index.html\n",
        "*   Matplotlib.pyplot https://matplotlib.org/stable/api/index.html#the-pyplot-api\n",
        "*   Matplotlib.dates https://matplotlib.org/stable/api/dates_api.html\n",
        "*   Google Colab\n",
        "*   Google Drive\n",
        "\n"
      ],
      "metadata": {
        "id": "5DeoZWOLfOlY"
      }
    },
    {
      "cell_type": "code",
      "execution_count": null,
      "metadata": {
        "id": "HrO1gVGYe3Ae"
      },
      "outputs": [],
      "source": [
        "!pip install geopandas\n",
        "# Installs geemap package\n",
        "import subprocess\n",
        "\n",
        "try:\n",
        "    import geemap\n",
        "except ImportError:\n",
        "    print('geemap package not installed. Installing ...')\n",
        "    subprocess.check_call([\"python\", '-m', 'pip', 'install', 'geemap']) \n",
        "#import os\n",
        "import ee\n",
        "import geemap \n",
        "import folium\n",
        "import geopandas as gpd\n",
        "import numpy as np\n",
        "import pandas as pd\n",
        "import matplotlib.pyplot as plt\n",
        "import matplotlib.dates as dates\n",
        "\n",
        "# Trigger the authentication flow.\n",
        "ee.Authenticate()\n",
        "\n",
        "# Initialize the library.\n",
        "ee.Initialize()"
      ]
    },
    {
      "cell_type": "markdown",
      "source": [
        "Paths and rows that touch the Schmidt outline"
      ],
      "metadata": {
        "id": "zLjONYDJ4jux"
      }
    },
    {
      "cell_type": "code",
      "source": [
        "AOIPathsRows = ee.FeatureCollection('users/marcosmendezlordsburg/Chihuahuan/landsatPathRow')"
      ],
      "metadata": {
        "id": "680C0ABb4jKq"
      },
      "execution_count": null,
      "outputs": []
    },
    {
      "cell_type": "markdown",
      "source": [
        "##Row and Path information \n",
        "This is temporary "
      ],
      "metadata": {
        "id": "Cl1Nh5byermc"
      }
    },
    {
      "cell_type": "code",
      "source": [
        "# PathCurrent and RowCurrent are used for testing. They will change later so that each tile can be evaluated\n",
        "PathCurrent = ee.Number(33)\n",
        "RowCurrent = ee.Number(38)\n",
        "\n",
        "datasetCurrent = (ee.ImageCollection('LANDSAT/LT05/C02/T1_L2')\n",
        "            .filter(ee.Filter.eq('WRS_ROW',RowCurrent))\n",
        "            .filter(ee.Filter.eq('WRS_PATH',PathCurrent))\n",
        "            .filter(ee.Filter.eq('CLOUD_COVER',0))\n",
        "            .select('SR_B1','SR_B2','SR_B3','SR_B4','SR_B5','SR_B7'))"
      ],
      "metadata": {
        "id": "AvGm5U4CZ4bU"
      },
      "execution_count": null,
      "outputs": []
    },
    {
      "cell_type": "markdown",
      "source": [
        "##Getting area of interest\n",
        "Collection 2 images are re-baselined. This means that images are repositioned to more closely match with ground control points in an effort to line up with images from Sentinel-2 for improved ground acuracy.\n",
        "\n",
        "Because of the re-baselining, an AOI will have to be created so that all images will calculate in the same area.\n",
        "\n",
        "Here is how to get the AOI\n",
        "* Get the geometry around each image \n",
        "* Intersect all image geometries to find area where all images have information.  \n",
        "* Repeat for each tile\n",
        "\n",
        "To get the image geometry interesections, we use:\n",
        "* ee.ImageCollection.geometry\n",
        "** Gets the geometries for all images in the image collection\n",
        "* ee.Geometry.intersection \n",
        "** Gets the intersection of two image geometries\n",
        "* ee.FeatureCollection.iterate\n",
        "** a type of looping that will repeat intersections for the image collection geometires\n",
        "\n",
        "\n",
        "\n"
      ],
      "metadata": {
        "id": "uuqse1-Ohj1o"
      }
    },
    {
      "cell_type": "code",
      "source": [
        "#accumulator takes the intersected geometry for all images in the tile\n",
        "def accumulator(current, previous):\n",
        "    previous = ee.Geometry(ee.List(previous))\n",
        "    nextOne = ee.Geometry(current)\n",
        "    Updated = ee.Geometry(nextOne.intersection(previous))\n",
        "    return ee.List(Updated)\n",
        "\n",
        "#ROICollection takes the paths and rows to make a feature from the geometry\n",
        "def ROICollection(path,row):\n",
        "#    pathRow = ee.Feature(pathsRows)\n",
        "    imgPath = path\n",
        "    imgRow = row\n",
        "    imgCollection = (ee.ImageCollection(datasetCurrent)\n",
        "                    .filterDate('1980-01-01', '2020-12-31')\n",
        "                    .filter(ee.Filter.eq('WRS_PATH', imgPath))\n",
        "                    .filter(ee.Filter.eq('WRS_ROW', imgRow)))\n",
        "    imgColGeometires = ee.List(ee.Geometry(imgCollection.geometry()).geometries())\n",
        "    initial = ee.Geometry(imgColGeometires.get(0))\n",
        "    intersectedGeometry = ee.Geometry(ee.List(imgColGeometires.iterate(accumulator,initial)))\n",
        "    areaProperties = {'Path':imgPath,'Row':imgRow}\n",
        "    return ee.Feature(intersectedGeometry,areaProperties)\n",
        "\n",
        "#This is the AOI for this particular tile. the fucntion ROICollection can be mapped.\n",
        "region = (ROICollection(PathCurrent,RowCurrent))"
      ],
      "metadata": {
        "id": "V6G6VWSyhiNF"
      },
      "execution_count": null,
      "outputs": []
    },
    {
      "cell_type": "code",
      "source": [
        "region.getInfo()"
      ],
      "metadata": {
        "id": "63VrdZbF4rEf"
      },
      "execution_count": null,
      "outputs": []
    },
    {
      "cell_type": "code",
      "source": [
        "#trying to see one image for trial\n",
        "image = ee.Image(datasetCurrent.first().clip(region))"
      ],
      "metadata": {
        "id": "Mnoy4Zw6gqUe"
      },
      "execution_count": null,
      "outputs": []
    },
    {
      "cell_type": "code",
      "source": [
        "#Scale of 30 meters is known as the size of each pixel on landsat. If another dataset is used, scale can be changed to a variable controled by the image properties.\n",
        "scale = ee.Number(30)\n",
        "bandNames = image.bandNames();"
      ],
      "metadata": {
        "id": "zKY18TzKxDOy"
      },
      "execution_count": null,
      "outputs": []
    },
    {
      "cell_type": "code",
      "source": [
        "#Mean center the data to enable a faster covariance reducer and an SD stretch of the principal components.\n",
        "\n",
        "meanDict = image.reduceRegion(**{\n",
        "    'reducer' : ee.Reducer.mean(),\n",
        "    'geometry' : region.geometry(),\n",
        "    'scale' : (scale),\n",
        "    'maxPixels' : (1e9)\n",
        "});\n",
        "means = ee.Image.constant(meanDict.values(bandNames));\n",
        "centered = image.subtract(means);\n",
        "#centered = image"
      ],
      "metadata": {
        "id": "tCpQlg-WxuqU"
      },
      "execution_count": null,
      "outputs": []
    },
    {
      "cell_type": "code",
      "source": [
        "# This helper function returns a list of new band names.\n",
        "def getNewBandNames(prefix):\n",
        "  seq = ee.List.sequence(1, bandNames.length())\n",
        "  return seq.map(lambda b: ee.String(prefix).cat((ee.Number(b).int()).format()))\n"
      ],
      "metadata": {
        "id": "KW9yxDWMYz3P"
      },
      "execution_count": null,
      "outputs": []
    },
    {
      "cell_type": "markdown",
      "source": [
        "#getting the PCA"
      ],
      "metadata": {
        "id": "nZO218atdUQV"
      }
    },
    {
      "cell_type": "code",
      "source": [
        "def getPrincipalComponents(centered, scale, region):\n",
        "  # Collapse the bands of the image into a 1D array per pixel.\n",
        "  arrays = centered.toArray()\n",
        "\n",
        "  # Compute the covariance of the bands within the region.\n",
        "  covar = arrays.reduceRegion(**{\n",
        "     'reducer': ee.Reducer.centeredCovariance(),\n",
        "     'geometry': region.geometry().getInfo(),\n",
        "     'scale': scale,\n",
        "     'maxPixels': 1e9\n",
        "  })\n",
        "    # Get the 'array' covariance result and cast to an array.\n",
        "    # This represents the band-to-band covariance within the region.\n",
        "  covarArray = ee.Array(covar.get('array'))\n",
        "\n",
        "\n",
        "  # Perform an eigen analysis and slice apart the values and vectors.\n",
        "  eigens = covarArray.eigen()\n",
        "\n",
        "  # This is a P-length vector of Eigenvalues.\n",
        "  eigenValues = eigens.slice(1, 0, 1)\n",
        "  # This is a PxP matrix with eigenvectors in rows.\n",
        "  eigenVectors = eigens.slice(1, 1)\n",
        "\n",
        "  # Convert the array image to 2D arrays for matrix computations.\n",
        "  arrayImage = arrays.toArray(1)\n",
        "\n",
        "  # Left multiply the image array by the matrix of eigenvectors.\n",
        "  principalComponents = ee.Image(eigenVectors).matrixMultiply(arrayImage)\n",
        "\n",
        "  # Turn the square roots of the Eigenvalues into a P-band image.\n",
        "  sdImage = ee.Image(eigenValues.sqrt()).arrayProject([0]).arrayFlatten([getNewBandNames('sd')])\n",
        "\n",
        "  # Turn the PCs into a P-band image, normalized by SD.\n",
        "  return (principalComponents\n",
        "          .arrayProject([0])\n",
        "          .arrayFlatten([getNewBandNames('PC_')])\n",
        "          .divide(sdImage))\n"
      ],
      "metadata": {
        "id": "fDTFZFXng5zJ"
      },
      "execution_count": null,
      "outputs": []
    },
    {
      "cell_type": "code",
      "source": [
        "pcImage = getPrincipalComponents(centered, scale, region)"
      ],
      "metadata": {
        "id": "q_yvZkIpktIp"
      },
      "execution_count": null,
      "outputs": []
    },
    {
      "cell_type": "code",
      "source": [
        "#Visualization Parameters\n",
        "\n",
        "img_vis_params_rbg = {\n",
        "    'bands': ['SR_B3','SR_B2','SR_B1'],\n",
        "    'min' : 0,\n",
        "    'max' : 20000,\n",
        "}\n",
        "\n",
        "img_vis_params_pca = {\n",
        "    'bands': ['PC_1', 'PC_2', 'PC_3'],\n",
        "    #'min' : -10,\n",
        "    #'max' : 10,\n",
        "}"
      ],
      "metadata": {
        "id": "OdKrx944CT0e"
      },
      "execution_count": null,
      "outputs": []
    },
    {
      "cell_type": "code",
      "source": [
        "pcImageMinMax = pcImage.reduceRegion(**{\n",
        "    'reducer':ee.Reducer.minMax(),\n",
        "    'geometry':region.geometry(),\n",
        "    'scale': scale,\n",
        "    'maxPixels': 1e18\n",
        "    })"
      ],
      "metadata": {
        "id": "2ihoaDjOqHJj"
      },
      "execution_count": null,
      "outputs": []
    },
    {
      "cell_type": "code",
      "source": [
        "pcImageMinMax.getInfo()\n",
        "#pcImageMinMax"
      ],
      "metadata": {
        "id": "5kh78ZwzrEvJ"
      },
      "execution_count": null,
      "outputs": []
    },
    {
      "cell_type": "code",
      "source": [
        "bandNamesList = pcImage.bandNames().getInfo()\n",
        "\n",
        "Map = geemap.Map()\n",
        "for band0 in bandNamesList:\n",
        "    band = pcImage.select(band0)\n",
        "    Map.addLayer(band,{min:2,max:2},band0)\n",
        "Map.addLayer(image,img_vis_params_rbg,\"RGB Image\")\n",
        "Map.addLayer(pcImage,img_vis_params_pca,'PCA IMAGE')\n",
        "Map.center_object(pcImage)\n",
        "Map"
      ],
      "metadata": {
        "id": "ac7rEevRgeWl"
      },
      "execution_count": null,
      "outputs": []
    },
    {
      "cell_type": "code",
      "source": [
        "import geemap.chart as chart"
      ],
      "metadata": {
        "id": "2pLfDK4MypqS"
      },
      "execution_count": null,
      "outputs": []
    },
    {
      "cell_type": "code",
      "source": [
        "sampleSettings = {\n",
        "    'region': region.geometry().getInfo(),\n",
        "    'scale': scale,\n",
        "    'numPixels': 1e9,\n",
        "\n",
        "}\n",
        "sample1 = pcImage.sample(**sampleSettings)"
      ],
      "metadata": {
        "id": "gocirUXozDhD"
      },
      "execution_count": null,
      "outputs": []
    },
    {
      "cell_type": "code",
      "source": [
        "sample1.getInfo()"
      ],
      "metadata": {
        "id": "oX1jg2h11SoC"
      },
      "execution_count": null,
      "outputs": []
    }
  ]
}